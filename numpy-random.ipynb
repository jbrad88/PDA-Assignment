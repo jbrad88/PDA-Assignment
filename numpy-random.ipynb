{
 "cells": [
  {
   "cell_type": "markdown",
   "metadata": {},
   "source": [
    "![NumPy](images/numpy.png)\n",
    "\n",
    "### NumPy Random \n",
    "---\n",
    "GMIT Programming for Data Analytics Assignment 2021 - Jody Bradley (G00387878)\n",
    "\n",
    "##### Introduction \n",
    "NumPy (which stands for Numerical Python) was created in 2005 by Travis Oliphanit, and is a Python library which is used for working with arrays. It is an open source project which can be used freely [1]. \n",
    "\n",
    "##### Installation\n",
    "To install NumPy using the PIP installer, run the following command:\n",
    "```\n",
    "pip install numpy\n",
    "```\n",
    "##### Importing NumPy\n",
    "To use NumPy in our program, we need to import the module - \"np\" is commonly used an an abbreviation, but you can name it as you wish. \n",
    "```python\n",
    "import numpy as np\n",
    "```\n",
    "#### Task 1. Explain the overall purpose of the NumPy.Random package\n",
    "\n",
    "NumPy is the universal standard for working with numerical data in Python, and it's users include everyone from coding students to experienced computer scientists. The NumPy API is used in Pandas, SciPy, Matplotlib, scikit-learn, scikit-images and many other Python packages. It can be used to perform a wide variety of mathematical operations on arrays [2].\n",
    "\n",
    "\n",
    "The NumPy \"random\" module is a suite of functions based on pseudo random number generation [3]. \n",
    "\n",
    "It's important to note that the term \"random number\" does not mean that it will be a different number each time. \"Random\" means something that can not be predicted logically. As a computer program uses an algorithm to generate a random number, it can be predicated, and therefore it is not truly random. Therefore we call a \"random\" number that has been generated using an algorithm, \"pseudo random\" [4].\n",
    "\n",
    "It is possible to generate a truly random number on a computer using random data from an outside source (keystrokes, moust movements etc.), however, for the purpose of this notebook we do not need truly random numbers and are content that \"pseudo random\" numbers are acceptable.\n",
    "\n",
    "NumPy's random number routines produce pseudo random numbers using combinations of a BitGenerator to create sequences and a Generator to use those sequences to sampel from different statistical distributions. These are defined in the the NumPy documentation, as follows [5]:\n",
    "\n",
    "* BitGenerators: Objects that generate random numbers. Typically unsigned integer words filled with sequences of either 32 or 64 random bits.\n",
    "* Generators: Objects that transform sequences of random bits from a BitGenerator into sequences of numbers that follows a specific probability distributution within a specified interval.\n",
    "\n",
    "The Generator provides access to a wide range of distributions, which we'll look at in more detail later. It is a replacement for NumPy RandomState. The main difference between the two is that Generator relies on an additional BitGenerator to manage state sand generate random bits, which are then transformed into random values from useful distributions [6]. The default BitGenerator used is PCG64, which is a 128-bit implementation of O'Neill's permutation congruential generator [7].\n",
    "\n",
    "To construct a new Generator with the default BitGenerator (PCG64) we use:\n",
    "```\n",
    "numpy.random.default_rng()\n",
    "```"
   ]
  },
  {
   "cell_type": "markdown",
   "metadata": {},
   "source": [
    "#### Task 2: Explain the use of the \"Simple random data\" and \"Permutations\" functions.\n",
    "\n",
    "##### 2.1 Simple Random Data\n",
    "\n",
    "There are four methods under the NumPy.random simple random data function which we'll look into in more detail below:\n",
    "* integers: returns random integers from low (inclusive) to high (exclusive), or if endpoint=True, low (inclusive) to high (inclusive).\n",
    "* random: returns random floats in the half-open interval.\n",
    "* choice: generates a random sample from a given array.\n",
    "* bytes: returns random bytes.\n",
    "\n",
    "We'll explore each of these further.\n",
    "\n",
    "##### 2.1.1 Integers\n",
    "```\n",
    "random.Generator.integers(low, high=None, size=None, dtype=np.int64, endpoint=False)\n",
    "```\n",
    "This method returns random integers from low (inclusive) to high (exclusive), or if endpoint=True, low (inclusive) to high (inclusive) [8]. In the example below, we use this method to generate an array of 5 integers between 0 and 10 (inclusive as we have specified that endpoint=True). "
   ]
  },
  {
   "cell_type": "code",
   "execution_count": 67,
   "metadata": {},
   "outputs": [
    {
     "data": {
      "text/plain": [
       "array([ 1,  5, 10, 10,  8], dtype=int64)"
      ]
     },
     "execution_count": 67,
     "metadata": {},
     "output_type": "execute_result"
    }
   ],
   "source": [
    "import numpy as np\n",
    "rng = np.random.default_rng()\n",
    "rng.integers(0, 10, size=5, dtype=np.int64, endpoint=True)"
   ]
  },
  {
   "cell_type": "markdown",
   "metadata": {},
   "source": [
    "##### 2.1.2 Random\n",
    "```\n",
    "random.Generator.random(size=None, dtype=np.float64, out=None)\n",
    "```\n",
    "This method returns random floats in the half-open interval (0.0, 1.0) [9]. In the example below, we use this method to generate an array of 5 floating point numbers between 0 and 1.0."
   ]
  },
  {
   "cell_type": "code",
   "execution_count": 68,
   "metadata": {},
   "outputs": [
    {
     "data": {
      "text/plain": [
       "array([0.61950778, 0.10937597, 0.72959301, 0.21052621, 0.1662454 ])"
      ]
     },
     "execution_count": 68,
     "metadata": {},
     "output_type": "execute_result"
    }
   ],
   "source": [
    "#import numpy as np\n",
    "rng = np.random.default_rng()\n",
    "rng.random(size = 5)"
   ]
  },
  {
   "cell_type": "markdown",
   "metadata": {},
   "source": [
    "We cam also use this method to generate an array of random numbers using different parameters. In the example below, we generate a three-by-two array of random numbers from (-5, 0) [9]:"
   ]
  },
  {
   "cell_type": "code",
   "execution_count": 69,
   "metadata": {},
   "outputs": [
    {
     "data": {
      "text/plain": [
       "array([[-1.02061298, -4.54783227],\n",
       "       [-0.23955665, -3.49587318],\n",
       "       [-4.72253561, -4.56488192]])"
      ]
     },
     "execution_count": 69,
     "metadata": {},
     "output_type": "execute_result"
    }
   ],
   "source": [
    "5 * rng.random((3, 2)) - 5\n",
    "# Code taken from https://numpy.org/doc/stable/reference/random/generated/numpy.random.Generator.random.html#numpy.random.Generator.random"
   ]
  },
  {
   "cell_type": "markdown",
   "metadata": {},
   "source": [
    "##### 2.1.3 Choice\n",
    "```\n",
    "random.Generator.random(size=None, dtype=np.float64, out=None)\n",
    "```\n",
    "This method generates a random sample from a given array [10]. In the example below, we generate a uniform random sample of three numbers from a range of 0 to 10 (inclusive):"
   ]
  },
  {
   "cell_type": "code",
   "execution_count": 49,
   "metadata": {},
   "outputs": [
    {
     "data": {
      "text/plain": [
       "array([0, 2, 8], dtype=int64)"
      ]
     },
     "execution_count": 49,
     "metadata": {},
     "output_type": "execute_result"
    }
   ],
   "source": [
    "rng = np.random.default_rng()\n",
    "rng.choice(10, 3)"
   ]
  },
  {
   "cell_type": "markdown",
   "metadata": {},
   "source": [
    "##### 2.1.4 Bytes\n",
    "```\n",
    "random.Generator.bytes(length)\n",
    "```\n",
    "This method returns random bytes of a defined length [11]."
   ]
  },
  {
   "cell_type": "code",
   "execution_count": 70,
   "metadata": {},
   "outputs": [
    {
     "data": {
      "text/plain": [
       "b'\\xe5\\xbfAA-'"
      ]
     },
     "execution_count": 70,
     "metadata": {},
     "output_type": "execute_result"
    }
   ],
   "source": [
    "np.random.default_rng().bytes(5)"
   ]
  },
  {
   "cell_type": "markdown",
   "metadata": {},
   "source": [
    "#### 2.2 Random Permutations\n",
    "A permutation refers to an arrangement of elements, e.g. (3,2,1) is a permutation of (1,2,3) and vice-versa [12]. \n",
    "\n",
    "The NumPy Random Module provides three methods for this: shuffle, permutation and permuted [13].\n",
    "\n",
    "##### 2.2.1 Shuffle\n",
    "```\n",
    "random.Generator.shuffle(x, axis=0)\n",
    "```\n",
    "This method modifys an array or sequence in-place by shuffling its contents [14]. In the example below, we shuffle an array of ten integers from 0 to 9 inclusive:"
   ]
  },
  {
   "cell_type": "code",
   "execution_count": 71,
   "metadata": {},
   "outputs": [
    {
     "data": {
      "text/plain": [
       "array([2, 3, 4, 8, 1, 9, 0, 5, 6, 7])"
      ]
     },
     "execution_count": 71,
     "metadata": {},
     "output_type": "execute_result"
    }
   ],
   "source": [
    "rng = np.random.default_rng()\n",
    "arr = np.arange(10)\n",
    "rng.shuffle(arr)\n",
    "arr\n"
   ]
  },
  {
   "cell_type": "markdown",
   "metadata": {},
   "source": [
    "##### 2.2.2 Permutation\n",
    "```\n",
    "random.Generator.permutation(x, axis=0)\n",
    "```\n",
    "This method randomly permutes a sequence, or returns a permuted range [15]. In the example below, we permute a range from 0 to 9 inclusive:"
   ]
  },
  {
   "cell_type": "code",
   "execution_count": 52,
   "metadata": {},
   "outputs": [
    {
     "data": {
      "text/plain": [
       "array([1, 8, 0, 9, 6, 3, 2, 4, 7, 5])"
      ]
     },
     "execution_count": 52,
     "metadata": {},
     "output_type": "execute_result"
    }
   ],
   "source": [
    "rng = np.random.default_rng()\n",
    "rng.permutation(10)"
   ]
  },
  {
   "cell_type": "markdown",
   "metadata": {},
   "source": [
    "##### 2.2.3 Permuted\n",
    "```\n",
    "random.Generator.permuted(x, axis=None, out=None)\n",
    "```\n",
    "This method randomly permutes x along axis axis. Unlike shuffle, each slice along the given axis is shuffled independently of the others [16]."
   ]
  },
  {
   "cell_type": "markdown",
   "metadata": {},
   "source": [
    "#### Task 3: Explain the use and purpose of at least five \"Distributions\" functions\".\n",
    "\n",
    "A probability distribution shows the probabilities of getting different outcomes. Take a coin toss as a simple example, the distribution of landing on heads or tails is 0.5 and 0.5.\n",
    "\n",
    "A discrete distribution is one in which the values that the data can take on are countable. A continuous distribution is one in which the values that the data can take on are not countable [17].\n"
   ]
  },
  {
   "cell_type": "markdown",
   "metadata": {},
   "source": [
    "##### 3.1 Normal (Gaussian) distribution\n",
    "![Normal](images/normal.png)\n",
    "\n",
    "A normal distribution is \"an arrangement of a data set in which most values cluster in the middle of the range and the rest taper off symmetrically toward either extreme\". A good example of this is height, as most people are of average height, the number of people that are shorter or taller than average are similar and a small number of people are either very tall or very short [18]. \n",
    "\n",
    "The NumPy.Random method for drawing a random sample from a normal (Gaussian) distribution is:\n",
    "```\n",
    "random.Generator.normal(loc=0.0, scale=1.0, size=None)\n",
    "```"
   ]
  },
  {
   "cell_type": "code",
   "execution_count": 53,
   "metadata": {},
   "outputs": [],
   "source": [
    "# Code taken from: https://numpy.org/doc/stable/reference/random/generated/numpy.random.Generator.normal.html#numpy.random.Generator.normal\n",
    "mu, sigma = 0, 0.1 # mean and standard deviation\n",
    "s = np.random.default_rng().normal(mu, sigma, 1000)"
   ]
  },
  {
   "cell_type": "code",
   "execution_count": 54,
   "metadata": {},
   "outputs": [
    {
     "data": {
      "text/plain": [
       "0.00026526968425257013"
      ]
     },
     "execution_count": 54,
     "metadata": {},
     "output_type": "execute_result"
    }
   ],
   "source": [
    "#Verify the mean and the variance:\n",
    "abs(mu - np.mean(s))"
   ]
  },
  {
   "cell_type": "code",
   "execution_count": 55,
   "metadata": {},
   "outputs": [
    {
     "data": {
      "text/plain": [
       "0.0001713011918468288"
      ]
     },
     "execution_count": 55,
     "metadata": {},
     "output_type": "execute_result"
    }
   ],
   "source": [
    "abs(sigma - np.std(s, ddof=1))"
   ]
  },
  {
   "cell_type": "code",
   "execution_count": 56,
   "metadata": {},
   "outputs": [
    {
     "data": {
      "image/png": "[encoded data removed]",
      "text/plain": [
       "<Figure size 432x288 with 1 Axes>"
      ]
     },
     "metadata": {
      "needs_background": "light"
     },
     "output_type": "display_data"
    }
   ],
   "source": [
    "#Display the histogram of the samples, along with the probability density function:\n",
    "\n",
    "import matplotlib.pyplot as plt\n",
    "count, bins, ignored = plt.hist(s, 30, density=True)\n",
    "plt.plot(bins, 1/(sigma * np.sqrt(2 * np.pi)) *\n",
    "               np.exp( - (bins - mu)**2 / (2 * sigma**2) ),\n",
    "         linewidth=2, color='r')\n",
    "plt.show()"
   ]
  },
  {
   "cell_type": "markdown",
   "metadata": {},
   "source": [
    "##### 3.2 Uniform distribution \n",
    "Uniform distribution \"is a form of probability distribution in which an event is equally likely to occur within a certain interval\"\n",
    "[19]. It has a symetrical bell shape which means that mean and median are equal and are both located at the centre of the distribution. A simple example of this is rolling a singular dice. The probability that any given number will appear is equal to that of every other number, i.e. the probability of one appearing is the same as two appearing, or any other number up to six. \n",
    "\n",
    "The NumPy.Random method for drawing a random sample from a uniform distribution is:\n",
    "```\n",
    "random.Generator.uniform(low=0.0, high=1.0, size=None)\n",
    "```"
   ]
  },
  {
   "cell_type": "code",
   "execution_count": 57,
   "metadata": {},
   "outputs": [
    {
     "data": {
      "text/plain": [
       "(array([10025.,  9844., 10090., 10138., 10110.,  9858.,  9963.,  9943.,\n",
       "         9959., 10070.]),\n",
       " array([7.73845020e-06, 1.00006423e-01, 2.00005107e-01, 3.00003792e-01,\n",
       "        4.00002476e-01, 5.00001161e-01, 5.99999845e-01, 6.99998529e-01,\n",
       "        7.99997214e-01, 8.99995898e-01, 9.99994583e-01]),\n",
       " <BarContainer object of 10 artists>)"
      ]
     },
     "execution_count": 57,
     "metadata": {},
     "output_type": "execute_result"
    },
    {
     "data": {
      "image/png": "[encoded data removed]",
      "text/plain": [
       "<Figure size 432x288 with 1 Axes>"
      ]
     },
     "metadata": {
      "needs_background": "light"
     },
     "output_type": "display_data"
    }
   ],
   "source": [
    "import numpy as np\n",
    "s = np.random.default_rng().uniform(0.0, 1, 100000)\n",
    "plt.hist(s)"
   ]
  },
  {
   "cell_type": "markdown",
   "metadata": {},
   "source": [
    "As we can see, the above plot illustrates a uniform distribution of 100,000 random samples between 0 and 1, proving that the probability that any given number will appear is equal to that of every other number."
   ]
  },
  {
   "cell_type": "markdown",
   "metadata": {},
   "source": [
    "##### 3.3 Binomial distribution\n",
    "![binomial](images/binomial.png)\n",
    "\n",
    "A binomial distribution can be described as simply the probability of a success or failure outcome in an action that is repeated multiple times. For example, a coin toss has two possible outcomes (heads or tails). \n",
    "\n",
    "It has three parameters:\n",
    "* n = number of trials\n",
    "* p = probability of occurence of each trial (0.5 for a coin toss)\n",
    "* size = shape of the returned array\n",
    "\n",
    "The NumPy.Random method for drawing a random sample from a binomial distribution is:\n",
    "```\n",
    "random.Generator.binomial(n, p, size=None)\n",
    "```\n",
    "\n",
    "The below code takes 10 trials for a coin toss, generates 1000 data points and visualizes the binomial distribution [20].\n"
   ]
  },
  {
   "cell_type": "code",
   "execution_count": 58,
   "metadata": {},
   "outputs": [
    {
     "data": {
      "text/plain": [
       "(array([ 13.,  46., 126., 210., 249., 197.,  95.,  52.,  11.,   1.]),\n",
       " array([ 1. ,  1.9,  2.8,  3.7,  4.6,  5.5,  6.4,  7.3,  8.2,  9.1, 10. ]),\n",
       " <BarContainer object of 10 artists>)"
      ]
     },
     "execution_count": 58,
     "metadata": {},
     "output_type": "execute_result"
    },
    {
     "data": {
      "image/png": "[encoded data removed]",
      "text/plain": [
       "<Figure size 432x288 with 1 Axes>"
      ]
     },
     "metadata": {
      "needs_background": "light"
     },
     "output_type": "display_data"
    }
   ],
   "source": [
    "rng = np.random.default_rng()\n",
    "n, p = 10, .5  # number of trials, probability of each trial\n",
    "s = rng.binomial(n, p, 1000)\n",
    "\n",
    "plt.hist(s)"
   ]
  },
  {
   "cell_type": "markdown",
   "metadata": {},
   "source": [
    "##### 3.4 Weibull distribution\n",
    "![Weibull](images/weibull.png)\n",
    "Named after Swedish mathematician Waloddi Weibull, the Weibull distribution is a \"continuous probability distribution\". It is used to describe \"various types of observed failures of components and phenomena\" [21]. It is essentially the failure rate over time. In terms of machines like car parts, this is called \"Time to Failure\", and these are provided by manufacturers for planning purposes [22].\n",
    "\n",
    "A Weibull distibution has a shape and scale parameter. The shape is how quickly the componenet is likely to fail over time and is shown by the steepness of the curve. NumPy does not require the scale distribution - instead we simply multiply the Weibull value by the scale to determine the scale distribution [22]. \n",
    "\n",
    "The NumPy.Random method for drawing a random sample from a weibull distribution is:\n",
    "```\n",
    "random.Generator.weibull(a, size=None)\n",
    "```\n"
   ]
  },
  {
   "cell_type": "code",
   "execution_count": 59,
   "metadata": {},
   "outputs": [],
   "source": [
    "import numpy as np\n",
    "import matplotlib.pyplot as plt\n",
    "\n",
    "# Draw samples from the distribution. \n",
    "rng = np.random.default_rng()\n",
    "a = 5. # shape\n",
    "s = rng.weibull(a, 1000)"
   ]
  },
  {
   "cell_type": "code",
   "execution_count": 60,
   "metadata": {},
   "outputs": [
    {
     "data": {
      "image/png": "[encoded data removed]",
      "text/plain": [
       "<Figure size 432x288 with 1 Axes>"
      ]
     },
     "metadata": {
      "needs_background": "light"
     },
     "output_type": "display_data"
    }
   ],
   "source": [
    "#Display the histogram of the samples, along with the probability density function:\n",
    "x = np.arange(1,100.)/50.\n",
    "def weib(x,n,a):\n",
    "    return (a / n) * (x / n)**(a - 1) * np.exp(-(x / n)**a)\n",
    "\n",
    "count, bins, ignored = plt.hist(rng.weibull(5.,1000))\n",
    "x = np.arange(1,100.)/50.\n",
    "scale = count.max()/weib(x, 1., 5.).max()\n",
    "plt.plot(x, weib(x, 1., 5.)*scale)\n",
    "plt.show()\n",
    "\n",
    "# Code taken from: https://numpy.org/doc/stable/reference/random/generated/numpy.random.Generator.weibull.html#numpy.random.Generator.weibull\n"
   ]
  },
  {
   "cell_type": "markdown",
   "metadata": {},
   "source": [
    "##### 3.5 Poisson Distribution\n",
    "![po](images/poisson.png)\n",
    "\n",
    "The Poisson distribution is \"a discrete distribution that represents how many times an event is likely to occur within a specific time period\" [17]. It is most commonly used in queuing theory, such as to predict the number of customers who are likely to join a queue within a given time period.\n",
    "\n",
    "\n",
    "The NumPy.Random method for drawing a random sample from a Pisson distribution is [23]:\n",
    "```\n",
    "random.Generator.poisson(lam=1.0, size=None)\n",
    "```"
   ]
  },
  {
   "cell_type": "code",
   "execution_count": 72,
   "metadata": {},
   "outputs": [
    {
     "data": {
      "image/png": "[encoded data removed]",
      "text/plain": [
       "<Figure size 432x288 with 1 Axes>"
      ]
     },
     "metadata": {
      "needs_background": "light"
     },
     "output_type": "display_data"
    }
   ],
   "source": [
    "# Draw samples from the distribution:\n",
    "rng = np.random.default_rng()\n",
    "s = rng.poisson(5, 10000)\n",
    "\n",
    "#Display histogram of the sample:\n",
    "count, bins, ignored = plt.hist(s, 14, density=True)\n",
    "plt.show()\n",
    "\n",
    "# Code taken from https://numpy.org/doc/stable/reference/random/generated/numpy.random.Generator.poisson.html#numpy.random.Generator.poisson\n"
   ]
  },
  {
   "cell_type": "markdown",
   "metadata": {},
   "source": [
    "#### Task 4: Explain the use of seeds in generating pseudorandom numbers\n",
    "\n",
    "Wolfram MathWorld defines a pseudorandom number simply as a \"computer-generated random number\" [24]. \"Random\" numbers generated by computer algorithms appear to be random, however, they are determined by the algorithm.\n",
    "\n",
    "Let's generate a list of 5 pseudorandom integers between 0 and 9 using numpy.random.int:"
   ]
  },
  {
   "cell_type": "code",
   "execution_count": 62,
   "metadata": {},
   "outputs": [
    {
     "data": {
      "text/plain": [
       "array([5, 0, 3, 3, 7])"
      ]
     },
     "execution_count": 62,
     "metadata": {},
     "output_type": "execute_result"
    }
   ],
   "source": [
    "import numpy as np\n",
    "np.random.seed(0)\n",
    "np.random.randint(10, size = 5)"
   ]
  },
  {
   "cell_type": "markdown",
   "metadata": {},
   "source": [
    "This creates an array of 5 numbers: 5, 0, 3, 3, 7. While this array appears to be random, if we run the same code again, we get the same output:"
   ]
  },
  {
   "cell_type": "code",
   "execution_count": 63,
   "metadata": {},
   "outputs": [
    {
     "data": {
      "text/plain": [
       "array([5, 0, 3, 3, 7])"
      ]
     },
     "execution_count": 63,
     "metadata": {},
     "output_type": "execute_result"
    }
   ],
   "source": [
    "import numpy as np\n",
    "np.random.seed(0)\n",
    "np.random.randint(10, size = 5)"
   ]
  },
  {
   "cell_type": "markdown",
   "metadata": {},
   "source": [
    "This proves that pseudorandom number generators produce numbers that look random, but are in fact determined [25]. You can try this piece of code on any computer, anywhere in the world, and you will get the same output: [5, 0, 3, 3, 7].\n",
    "\n",
    "A random seed specifies the start point when a computer generates a random number. This can be any number, but usually comes from seconds on a computer system's clock, which counts seconds from 01/01/1970 - a system called Unix time. This provides a large number of seeds (o to 1+ billion) which ensures that it is highly unlikely that the same random seed will be used twice [26]. \n",
    "\n",
    "NumPy.random.seed is a function that sets the random seed of the NumPy pseudorandom number generator. It is used in conjunction with other NumPy.random functions. \n"
   ]
  },
  {
   "cell_type": "code",
   "execution_count": 64,
   "metadata": {},
   "outputs": [
    {
     "data": {
      "text/plain": [
       "array([30, 91,  9, 73, 62])"
      ]
     },
     "execution_count": 64,
     "metadata": {},
     "output_type": "execute_result"
    }
   ],
   "source": [
    "import numpy as np\n",
    "np.random.seed(74)\n",
    "np.random.randint(low = 0, high = 100, size = 5)"
   ]
  },
  {
   "cell_type": "code",
   "execution_count": 65,
   "metadata": {},
   "outputs": [
    {
     "data": {
      "text/plain": [
       "array([30, 91,  9, 73, 62])"
      ]
     },
     "execution_count": 65,
     "metadata": {},
     "output_type": "execute_result"
    }
   ],
   "source": [
    "import numpy as np\n",
    "np.random.seed(74)\n",
    "np.random.randint(low = 0, high = 100, size = 5)"
   ]
  },
  {
   "cell_type": "markdown",
   "metadata": {},
   "source": [
    "#### REFERENCES\n",
    "---\n",
    "1.\thttps://www.w3schools.com/python/numpy/numpy_intro.asp\n",
    "2.\thttps://numpy.org/doc/stable/user/absolute_beginners.html\n",
    "3.\thttps://www.datacamp.com/community/tutorials/numpy-random\n",
    "4.\thttps://www.w3schools.com/python/numpy/numpy_random.asp\n",
    "5.\thttps://numpy.org/doc/stable/reference/random/index.html\n",
    "6.\thttps://numpy.org/doc/stable/reference/random/generator.html\n",
    "7.\thttps://numpy.org/doc/stable/reference/random/bit_generators/pcg64.html\n",
    "8.\thttps://numpy.org/doc/stable/reference/random/generated/numpy.random.Generator.integers.html#numpy.random.Generator.integers\n",
    "9.\thttps://numpy.org/doc/stable/reference/random/generated/numpy.random.Generator.random.html#numpy.random.Generator.random\n",
    "10.\thttps://numpy.org/doc/stable/reference/random/generated/numpy.random.Generator.choice.html#numpy.random.Generator.choice\n",
    "11.\thttps://numpy.org/doc/stable/reference/random/generated/numpy.random.bytes.html?highlight=bytes#numpy.random.bytes\n",
    "12.\thttps://www.w3schools.com/python/numpy/numpy_random_permutation.asp\n",
    "13.\thttps://www.pythonpool.com/numpy-random-permutation/\n",
    "14.\thttps://numpy.org/doc/stable/reference/random/generated/numpy.random.Generator.shuffle.html#numpy.random.Generator.shuffle\n",
    "15.\thttps://numpy.org/doc/stable/reference/random/generated/numpy.random.Generator.permutation.html#numpy.random.Generator.permutation\n",
    "16.\thttps://numpy.org/doc/stable/reference/random/generated/numpy.random.Generator.permuted.html#numpy.random.Generator.permuted\n",
    "17.\thttps://towardsdatascience.com/all-probability-distributions-explained-in-six-minutes-fe57b1d49600?gi=86a511140b57\n",
    "18.\thttps://whatis.techtarget.com/definition/normal-distribution\n",
    "19.\thttps://studiousguy.com/uniform-distribution-examples/\n",
    "20.\thttps://www.w3schools.com/python/numpy/numpy_random_binomial.asp\n",
    "21.\thttps://link.springer.com/referenceworkentry/10.1007%2F978-1-84628-288-1_3\n",
    "22.\thttps://www.bmc.com/blogs/numpy-statistical-functions/#\n",
    "23.\thttps://numpy.org/doc/stable/reference/random/generated/numpy.random.Generator.poisson.html#numpy.random.Generator.poisson\n",
    "24.\thttps://mathworld.wolfram.com/PseudorandomNumber.html\n",
    "25.\thttps://www.sharpsightlabs.com/blog/numpy-random-seed/\n",
    "26.\thttps://www.statisticshowto.com/random-seed-definition/\n"
   ]
  }
 ],
 "metadata": {
  "kernelspec": {
   "display_name": "Python 3",
   "language": "python",
   "name": "python3"
  },
  "language_info": {
   "codemirror_mode": {
    "name": "ipython",
    "version": 3
   },
   "file_extension": ".py",
   "mimetype": "text/x-python",
   "name": "python",
   "nbconvert_exporter": "python",
   "pygments_lexer": "ipython3",
   "version": "3.8.3"
  }
 },
 "nbformat": 4,
 "nbformat_minor": 4
}
