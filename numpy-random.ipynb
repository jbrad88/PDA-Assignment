{
 "cells": [
  {
   "cell_type": "markdown",
   "metadata": {},
   "source": [
    "## NumPy Random \n",
    "\n",
    "### Introduction \n",
    "NumPy (which stands for Numerical Python) was created in 2005 by Travis Oliphanit, and is a Python library which is used for working with arrays. It is an open source project which can be used freely [https://www.w3schools.com/python/numpy/numpy_intro.asp]. \n",
    "\n",
    "#### Installation\n",
    "To install NumPy using the PIP installer, run the following command:\n",
    "```\n",
    "pip install numpy\n",
    "```\n",
    "#### Importing NumPy\n",
    "To use NumPy in our program, we need to import the module - \"np\" is commonly used an an abbreviation, but you can name it as you wish. \n",
    "```python\n",
    "import numpy as np\n",
    "```\n",
    "### Random Generator\n",
    "The Random Generator provides access to a wide range of distributions, and served a replacement for RandomState [https://numpy.org/doc/stable/reference/random/generator.html].\n",
    "\n"
   ]
  },
  {
   "cell_type": "code",
   "execution_count": null,
   "metadata": {},
   "outputs": [],
   "source": []
  }
 ],
 "metadata": {
  "kernelspec": {
   "display_name": "Python 3",
   "language": "python",
   "name": "python3"
  },
  "language_info": {
   "codemirror_mode": {
    "name": "ipython",
    "version": 3
   },
   "file_extension": ".py",
   "mimetype": "text/x-python",
   "name": "python",
   "nbconvert_exporter": "python",
   "pygments_lexer": "ipython3",
   "version": "3.8.3"
  }
 },
 "nbformat": 4,
 "nbformat_minor": 4
}
