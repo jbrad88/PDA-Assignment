{
 "cells": [
  {
   "cell_type": "markdown",
   "metadata": {},
   "source": [
    "## NumPy Random \n",
    "---\n",
    "GMIT Programming for Data Analytics Assignment 2021 - Jody Bradley (G00387878)\n",
    "\n",
    "### Introduction \n",
    "NumPy (which stands for Numerical Python) was created in 2005 by Travis Oliphanit, and is a Python library which is used for working with arrays. It is an open source project which can be used freely [https://www.w3schools.com/python/numpy/numpy_intro.asp]. \n",
    "\n",
    "### Installation\n",
    "To install NumPy using the PIP installer, run the following command:\n",
    "```\n",
    "pip install numpy\n",
    "```\n",
    "### Importing NumPy\n",
    "To use NumPy in our program, we need to import the module - \"np\" is commonly used an an abbreviation, but you can name it as you wish. \n",
    "```python\n",
    "import numpy as np\n",
    "```\n",
    "##### Task 1. Explain the overall purpose of the NumPy.Random package\n",
    "\n",
    "The NumPy \"random\" module allows us to generate random numbers. The simple example below shows how we can generate a random number from 0 to 100:"
   ]
  },
  {
   "cell_type": "code",
   "execution_count": 5,
   "metadata": {},
   "outputs": [
    {
     "name": "stdout",
     "output_type": "stream",
     "text": [
      "41\n"
     ]
    }
   ],
   "source": [
    "import numpy as np\n",
    "\n",
    "x = np.random.randint(100)\n",
    "\n",
    "print(x)"
   ]
  },
  {
   "cell_type": "markdown",
   "metadata": {},
   "source": []
  },
  {
   "cell_type": "markdown",
   "metadata": {},
   "source": [
    "It's important to note that the term \"random number\" does not mean that it will be a different number each time. \"Random\" means something that can not be predicted logically. As a computer program uses an algorithm to generate a random number, it can be predicated, and therefore it is not truly random. Therefore we call a \"random\" number that has been generated using an algorithm, \"pseudo random\" [https://www.w3schools.com/python/numpy/numpy_random.asp].\n",
    "\n",
    "It is possible to generate a truly random number on a computer using random data from an outside source (keystrokes, moust movements etc.), however, for the purpose of this notebook we do not need truly random numbers and are content that \"pseudo random\" numbers are acceptable.\n",
    "\n",
    "The Random Generator provides access to a wide range of distributions, and served a replacement for RandomState [https://numpy.org/doc/stable/reference/random/generator.html].\n"
   ]
  },
  {
   "cell_type": "code",
   "execution_count": 6,
   "metadata": {},
   "outputs": [
    {
     "data": {
      "text/plain": [
       "array([1, 0, 0, 0, 0, 0, 0, 0, 0, 1], dtype=int64)"
      ]
     },
     "execution_count": 6,
     "metadata": {},
     "output_type": "execute_result"
    }
   ],
   "source": [
    "# numpy.random.Generator.integers\n",
    "# https://numpy.org/doc/stable/reference/random/generated/numpy.random.Generator.integers.html#numpy.random.Generator.integers\n",
    "\n",
    "import numpy as np\n",
    "rng = np.random.default_rng()\n",
    "rng.integers(2, size=10)"
   ]
  },
  {
   "cell_type": "code",
   "execution_count": 7,
   "metadata": {},
   "outputs": [
    {
     "data": {
      "text/plain": [
       "array([0, 0, 0, 0, 0, 0, 0, 0, 0, 0], dtype=int64)"
      ]
     },
     "execution_count": 7,
     "metadata": {},
     "output_type": "execute_result"
    }
   ],
   "source": [
    "rng.integers(1, size=10)"
   ]
  },
  {
   "cell_type": "code",
   "execution_count": 8,
   "metadata": {},
   "outputs": [
    {
     "data": {
      "text/plain": [
       "array([[4, 1, 0, 4],\n",
       "       [0, 2, 2, 1],\n",
       "       [3, 4, 4, 2],\n",
       "       [2, 1, 0, 4],\n",
       "       [2, 3, 3, 4]], dtype=int64)"
      ]
     },
     "execution_count": 8,
     "metadata": {},
     "output_type": "execute_result"
    }
   ],
   "source": [
    "rng.integers(5, size=(5, 4))\n",
    "# Here we can see that this generates a 5 X 4 array of ints between 0 and 4 inclusive.\n"
   ]
  },
  {
   "cell_type": "code",
   "execution_count": 9,
   "metadata": {},
   "outputs": [],
   "source": [
    "x = rng.integers(100, size=10000000)"
   ]
  },
  {
   "cell_type": "code",
   "execution_count": 10,
   "metadata": {},
   "outputs": [
    {
     "data": {
      "text/plain": [
       "(array([1000537.,  999612.,  999509., 1001162., 1000937.,  998363.,\n",
       "        1000165.,  999834.,  999761., 1000120.]),\n",
       " array([ 0. ,  9.9, 19.8, 29.7, 39.6, 49.5, 59.4, 69.3, 79.2, 89.1, 99. ]),\n",
       " <BarContainer object of 10 artists>)"
      ]
     },
     "execution_count": 10,
     "metadata": {},
     "output_type": "execute_result"
    },
    {
     "data": {
      "image/png": "[encoded data removed]",
      "text/plain": [
       "<Figure size 432x288 with 1 Axes>"
      ]
     },
     "metadata": {
      "needs_background": "light"
     },
     "output_type": "display_data"
    }
   ],
   "source": [
    "import matplotlib.pyplot as plt\n",
    "\n",
    "plt.hist(x)"
   ]
  },
  {
   "cell_type": "markdown",
   "metadata": {},
   "source": [
    "#### Random Permutations\n",
    "\n",
    "A permutation refers to an arrangement of elements\n",
    "[https://www.w3schools.com/python/numpy/numpy_random_permutation.asp]. \n",
    "\n",
    "[https://www.pythonpool.com/numpy-random-permutation/]\n",
    "\n",
    "***MORE TO GO IN HERE ***"
   ]
  },
  {
   "cell_type": "markdown",
   "metadata": {},
   "source": [
    "#### Task 3: Explain the use and purpose of at least five \"Distributions\" functions\".\n",
    "\n",
    "##### 3.1 Uniform distribution \n",
    "Uniform distribution \"is a form of probability distribution in which an event is equally likely to occur within a certain interval\"\n",
    "[https://studiousguy.com/uniform-distribution-examples/]. A simple example of this is rolling a singular dice. The probability that any given number will appear is equal to that of every other number, i.e. the probability of one appearing is the same as two appearing, or any other number up to six. \n",
    "\n"
   ]
  },
  {
   "cell_type": "code",
   "execution_count": 24,
   "metadata": {},
   "outputs": [
    {
     "data": {
      "text/plain": [
       "array([0.81928699, 0.27658909, 0.81131338, 0.89147866, 0.73520244,\n",
       "       0.24672996, 0.02455746, 0.35788797, 0.53264148, 0.00466446,\n",
       "       0.50168261, 0.90689769, 0.91565526, 0.36470489, 0.60300204,\n",
       "       0.63553969, 0.78163451, 0.17824311, 0.62827233, 0.92557031,\n",
       "       0.60170196, 0.52143836, 0.54978464, 0.59204323, 0.12094968,\n",
       "       0.14550286, 0.83105629, 0.66658231, 0.79999126, 0.41022123,\n",
       "       0.78539913, 0.74385478, 0.66454104, 0.13009711, 0.25704756,\n",
       "       0.55538687, 0.09759853, 0.67796562, 0.77492933, 0.02597586,\n",
       "       0.33477834, 0.93899905, 0.71528553, 0.6545494 , 0.06033674,\n",
       "       0.84510641, 0.64182224, 0.7288271 , 0.99534829, 0.76157522,\n",
       "       0.77557328, 0.52367489, 0.52525174, 0.54356099, 0.23144869,\n",
       "       0.42412973, 0.06226526, 0.29910894, 0.08240942, 0.13981019,\n",
       "       0.0540082 , 0.12560206, 0.61036957, 0.63846615, 0.572825  ,\n",
       "       0.26266986, 0.27028994, 0.88281591, 0.33089091, 0.73419447,\n",
       "       0.52749901, 0.42220592, 0.03113552, 0.88117709, 0.08591602,\n",
       "       0.65857883, 0.72806427, 0.05569279, 0.24632974, 0.54265984,\n",
       "       0.26560865, 0.90578585, 0.40105698, 0.74840099, 0.02104168,\n",
       "       0.1562023 , 0.95582401, 0.87682001, 0.13737232, 0.07101004,\n",
       "       0.84849979, 0.72243123, 0.23832354, 0.12624019, 0.32999757,\n",
       "       0.25432798, 0.19082234, 0.43772182, 0.2857854 , 0.41832054])"
      ]
     },
     "execution_count": 24,
     "metadata": {},
     "output_type": "execute_result"
    }
   ],
   "source": [
    "import numpy as np\n",
    "np.random.uniform(0.0, 1.0, 100)\n",
    "# Numbers in brackets refer to (lower bound, upper bound, size).\n",
    "# Here we're looking for an array of 100 numbers between 0.00 and 1.0.\n",
    "\n",
    "#Samples are uniformly distributed over the half-open interval \n",
    "#[low, high) (includes low, but excludes high). In other words, \n",
    "#any value within the given interval is equally likely to be drawn \n",
    "#by uniform.\n",
    "# Code taken from https://numpy.org/doc/1.16/reference/generated/\n",
    "# numpy.random.uniform.html#numpy.random.uniform"
   ]
  },
  {
   "cell_type": "code",
   "execution_count": 27,
   "metadata": {},
   "outputs": [
    {
     "data": {
      "text/plain": [
       "(array([10007.,  9986., 10170.,  9870.,  9902., 10136., 10018.,  9960.,\n",
       "         9993.,  9958.]),\n",
       " array([2.39689444e-02, 1.00021332e+02, 2.00018695e+02, 3.00016058e+02,\n",
       "        4.00013421e+02, 5.00010784e+02, 6.00008147e+02, 7.00005510e+02,\n",
       "        8.00002873e+02, 9.00000236e+02, 9.99997599e+02]),\n",
       " <BarContainer object of 10 artists>)"
      ]
     },
     "execution_count": 27,
     "metadata": {},
     "output_type": "execute_result"
    },
    {
     "data": {
      "image/png": "[encoded data removed]",
      "text/plain": [
       "<Figure size 432x288 with 1 Axes>"
      ]
     },
     "metadata": {
      "needs_background": "light"
     },
     "output_type": "display_data"
    }
   ],
   "source": [
    "# Let's see what a plot looks like for a uniform distribution of 100,000\n",
    "# samples between 0 and 1,000.\n",
    "\n",
    "x = np.random.uniform(0, 1000, 100000)\n",
    "plt.hist(x)"
   ]
  },
  {
   "cell_type": "markdown",
   "metadata": {},
   "source": [
    "As we can see, the above plot illustrates a uniform distribution of 100,000 random samples between 0 and 1,000, proving that the probability that any given number will appear is equal to that of every other number."
   ]
  },
  {
   "cell_type": "markdown",
   "metadata": {},
   "source": [
    "##### 3.2 Normal (Gaussian) distribution\n",
    "\n",
    "A normal distribution is \"an arrangement of a data set in which most values cluster in the middle of the range and the rest taper off symmetrically toward either extreme\". A good example of this is height, as most people are of average height, the number of people that are shorter or taller than average are similar and a small number of people are either very tall or very short [https://whatis.techtarget.com/definition/normal-distribution]. \n",
    "\n",
    "\n"
   ]
  },
  {
   "cell_type": "code",
   "execution_count": 30,
   "metadata": {},
   "outputs": [
    {
     "data": {
      "text/plain": [
       "(array([8.0000e+00, 2.1900e+02, 2.4010e+03, 1.2032e+04, 2.9461e+04,\n",
       "        3.3074e+04, 1.7861e+04, 4.3950e+03, 5.2300e+02, 2.6000e+01]),\n",
       " array([-0.46497268, -0.37495632, -0.28493995, -0.19492359, -0.10490723,\n",
       "        -0.01489086,  0.0751255 ,  0.16514186,  0.25515823,  0.34517459,\n",
       "         0.43519095]),\n",
       " <BarContainer object of 10 artists>)"
      ]
     },
     "execution_count": 30,
     "metadata": {},
     "output_type": "execute_result"
    },
    {
     "data": {
      "image/png": "[encoded data removed]",
      "text/plain": [
       "<Figure size 432x288 with 1 Axes>"
      ]
     },
     "metadata": {
      "needs_background": "light"
     },
     "output_type": "display_data"
    }
   ],
   "source": [
    "x = np.random.normal(0, 0.1, 100000)\n",
    "plt.hist(x)"
   ]
  },
  {
   "cell_type": "code",
   "execution_count": null,
   "metadata": {},
   "outputs": [],
   "source": []
  },
  {
   "cell_type": "code",
   "execution_count": null,
   "metadata": {},
   "outputs": [],
   "source": []
  },
  {
   "cell_type": "code",
   "execution_count": null,
   "metadata": {},
   "outputs": [],
   "source": []
  },
  {
   "cell_type": "code",
   "execution_count": null,
   "metadata": {},
   "outputs": [],
   "source": []
  },
  {
   "cell_type": "markdown",
   "metadata": {},
   "source": [
    "#### Task 4: Explain the use of seeds in generating pseudorandom numbers\n",
    "\n",
    "Wolfram MathWorld defines a pseudorandom number simply as a \"computer-generated random number\" [https://mathworld.wolfram.com/PseudorandomNumber.html]. \"Random\" numbers generated by computer algorithms appear to be random, howver, they are determined by the algorithm.\n",
    "\n",
    "Let's generate a list of 5 pseudorandom integers between 0 and 9 using numpy.random.int:"
   ]
  },
  {
   "cell_type": "code",
   "execution_count": 12,
   "metadata": {},
   "outputs": [
    {
     "data": {
      "text/plain": [
       "array([5, 0, 3, 3, 7])"
      ]
     },
     "execution_count": 12,
     "metadata": {},
     "output_type": "execute_result"
    }
   ],
   "source": [
    "import numpy as np\n",
    "np.random.seed(0)\n",
    "np.random.randint(10, size = 5)"
   ]
  },
  {
   "cell_type": "markdown",
   "metadata": {},
   "source": [
    "This creates an array of 5 numbers: 5, 0, 3, 3, 7. While this array appears to be random, if we run the same code again, we get the same output:"
   ]
  },
  {
   "cell_type": "code",
   "execution_count": 13,
   "metadata": {},
   "outputs": [
    {
     "data": {
      "text/plain": [
       "array([5, 0, 3, 3, 7])"
      ]
     },
     "execution_count": 13,
     "metadata": {},
     "output_type": "execute_result"
    }
   ],
   "source": [
    "import numpy as np\n",
    "np.random.seed(0)\n",
    "np.random.randint(10, size = 5)"
   ]
  },
  {
   "cell_type": "markdown",
   "metadata": {},
   "source": [
    "This proves that pseudorandom number generators produce numbers that look random, but are in fact determined [https://www.sharpsightlabs.com/blog/numpy-random-seed/]. You can try this piece of code on any computer, anywhere in the world, and you will get the same output: [5, 0, 3, 3, 7].\n",
    "\n",
    "A random seed specifies the start point when a computer generates a random number. This can be any number, but usually comes from seconds on a computer system's clock, which counts seconds from 01/01/1970 - a system called Unix time. This provides a large number of seeds (o to 1+ billion) which ensures that it is highly unlikely that the same random seed will be used twice [https://www.statisticshowto.com/random-seed-definition/]. \n",
    "\n",
    "NumPy.random.seed is a function that sets the random seed of the NumPy pseudorandom number generator. It is used in conjunction with other NumPy.random functions. \n"
   ]
  },
  {
   "cell_type": "code",
   "execution_count": 22,
   "metadata": {},
   "outputs": [
    {
     "data": {
      "text/plain": [
       "array([30, 91,  9, 73, 62])"
      ]
     },
     "execution_count": 22,
     "metadata": {},
     "output_type": "execute_result"
    }
   ],
   "source": [
    "import numpy as np\n",
    "np.random.seed(74)\n",
    "np.random.randint(low = 0, high = 100, size = 5)"
   ]
  },
  {
   "cell_type": "code",
   "execution_count": 23,
   "metadata": {},
   "outputs": [
    {
     "data": {
      "text/plain": [
       "array([30, 91,  9, 73, 62])"
      ]
     },
     "execution_count": 23,
     "metadata": {},
     "output_type": "execute_result"
    }
   ],
   "source": [
    "import numpy as np\n",
    "np.random.seed(74)\n",
    "np.random.randint(low = 0, high = 100, size = 5)"
   ]
  },
  {
   "cell_type": "code",
   "execution_count": null,
   "metadata": {},
   "outputs": [],
   "source": []
  }
 ],
 "metadata": {
  "kernelspec": {
   "display_name": "Python 3",
   "language": "python",
   "name": "python3"
  },
  "language_info": {
   "codemirror_mode": {
    "name": "ipython",
    "version": 3
   },
   "file_extension": ".py",
   "mimetype": "text/x-python",
   "name": "python",
   "nbconvert_exporter": "python",
   "pygments_lexer": "ipython3",
   "version": "3.8.3"
  }
 },
 "nbformat": 4,
 "nbformat_minor": 4
}
