{
 "cells": [
  {
   "cell_type": "markdown",
   "metadata": {},
   "source": [
    "## NumPy Random \n",
    "---\n",
    "GMIT Programming for Data Analytics Assignment 2021 - Jody Bradley (G00387878)\n",
    "\n",
    "### Introduction \n",
    "NumPy (which stands for Numerical Python) was created in 2005 by Travis Oliphanit, and is a Python library which is used for working with arrays. It is an open source project which can be used freely [https://www.w3schools.com/python/numpy/numpy_intro.asp]. \n",
    "\n",
    "It's important to note that the term \"random number\" does not mean that it will be a different number each time. \"Random\" means something that can not be predicted logically. As a computer program uses an algorithm to generate a random number, it can be predicated, and therefore it is not truly random. Therefore we call a \"random\" number that has been generated using an algorithm, \"pseudo random\" [https://www.w3schools.com/python/numpy/numpy_random.asp].\n",
    "\n",
    "It is possible to generate a truly random number on a computer using random data from an outside source (keystrokes, moust movements etc.), however, for the purpose of this notebook we do not need truly random numbers and are content that \"pseudo random\" numbers are acceptable.\n",
    "\n",
    "### Installation\n",
    "To install NumPy using the PIP installer, run the following command:\n",
    "```\n",
    "pip install numpy\n",
    "```\n",
    "### Importing NumPy\n",
    "To use NumPy in our program, we need to import the module - \"np\" is commonly used an an abbreviation, but you can name it as you wish. \n",
    "```python\n",
    "import numpy as np\n",
    "```\n",
    "### Random Generator\n",
    "The NumPy \"random\" module allows us to generate random numbers. The simple example below shows how we can generate a random number from 0 to 100:"
   ]
  },
  {
   "cell_type": "code",
   "execution_count": 5,
   "metadata": {},
   "outputs": [
    {
     "name": "stdout",
     "output_type": "stream",
     "text": [
      "41\n"
     ]
    }
   ],
   "source": [
    "import numpy as np\n",
    "\n",
    "x = np.random.randint(100)\n",
    "\n",
    "print(x)"
   ]
  },
  {
   "cell_type": "markdown",
   "metadata": {},
   "source": []
  },
  {
   "cell_type": "markdown",
   "metadata": {},
   "source": [
    "The Random Generator provides access to a wide range of distributions, and served a replacement for RandomState [https://numpy.org/doc/stable/reference/random/generator.html].\n"
   ]
  },
  {
   "cell_type": "code",
   "execution_count": 6,
   "metadata": {},
   "outputs": [
    {
     "data": {
      "text/plain": [
       "array([1, 0, 0, 0, 0, 0, 0, 0, 0, 1], dtype=int64)"
      ]
     },
     "execution_count": 6,
     "metadata": {},
     "output_type": "execute_result"
    }
   ],
   "source": [
    "# numpy.random.Generator.integers\n",
    "# https://numpy.org/doc/stable/reference/random/generated/numpy.random.Generator.integers.html#numpy.random.Generator.integers\n",
    "\n",
    "import numpy as np\n",
    "rng = np.random.default_rng()\n",
    "rng.integers(2, size=10)"
   ]
  },
  {
   "cell_type": "code",
   "execution_count": 7,
   "metadata": {},
   "outputs": [
    {
     "data": {
      "text/plain": [
       "array([0, 0, 0, 0, 0, 0, 0, 0, 0, 0], dtype=int64)"
      ]
     },
     "execution_count": 7,
     "metadata": {},
     "output_type": "execute_result"
    }
   ],
   "source": [
    "rng.integers(1, size=10)"
   ]
  },
  {
   "cell_type": "code",
   "execution_count": 8,
   "metadata": {},
   "outputs": [
    {
     "data": {
      "text/plain": [
       "array([[4, 1, 0, 4],\n",
       "       [0, 2, 2, 1],\n",
       "       [3, 4, 4, 2],\n",
       "       [2, 1, 0, 4],\n",
       "       [2, 3, 3, 4]], dtype=int64)"
      ]
     },
     "execution_count": 8,
     "metadata": {},
     "output_type": "execute_result"
    }
   ],
   "source": [
    "rng.integers(5, size=(5, 4))\n",
    "# Here we can see that this generates a 5 X 4 array of ints between 0 and 4 inclusive.\n"
   ]
  },
  {
   "cell_type": "code",
   "execution_count": 9,
   "metadata": {},
   "outputs": [],
   "source": [
    "x = rng.integers(100, size=10000000)"
   ]
  },
  {
   "cell_type": "code",
   "execution_count": 10,
   "metadata": {},
   "outputs": [
    {
     "data": {
      "text/plain": [
       "(array([1000537.,  999612.,  999509., 1001162., 1000937.,  998363.,\n",
       "        1000165.,  999834.,  999761., 1000120.]),\n",
       " array([ 0. ,  9.9, 19.8, 29.7, 39.6, 49.5, 59.4, 69.3, 79.2, 89.1, 99. ]),\n",
       " <BarContainer object of 10 artists>)"
      ]
     },
     "execution_count": 10,
     "metadata": {},
     "output_type": "execute_result"
    },
    {
     "data": {
      "image/png": "[encoded data removed]",
      "text/plain": [
       "<Figure size 432x288 with 1 Axes>"
      ]
     },
     "metadata": {
      "needs_background": "light"
     },
     "output_type": "display_data"
    }
   ],
   "source": [
    "import matplotlib.pyplot as plt\n",
    "\n",
    "plt.hist(x)"
   ]
  },
  {
   "cell_type": "code",
   "execution_count": null,
   "metadata": {},
   "outputs": [],
   "source": []
  }
 ],
 "metadata": {
  "kernelspec": {
   "display_name": "Python 3",
   "language": "python",
   "name": "python3"
  },
  "language_info": {
   "codemirror_mode": {
    "name": "ipython",
    "version": 3
   },
   "file_extension": ".py",
   "mimetype": "text/x-python",
   "name": "python",
   "nbconvert_exporter": "python",
   "pygments_lexer": "ipython3",
   "version": "3.8.3"
  }
 },
 "nbformat": 4,
 "nbformat_minor": 4
}
